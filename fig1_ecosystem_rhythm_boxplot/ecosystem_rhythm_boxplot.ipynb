{
 "cells": [
  {
   "cell_type": "code",
   "execution_count": 1,
   "id": "a835f91f",
   "metadata": {},
   "outputs": [],
   "source": [
    "import matplotlib.pyplot as plt\n",
    "import pandas as pd\n",
    "from datetime import datetime"
   ]
  },
  {
   "cell_type": "markdown",
   "id": "a4bbbd68",
   "metadata": {},
   "source": [
    "# Import data"
   ]
  },
  {
   "cell_type": "code",
   "execution_count": 2,
   "id": "e77db462",
   "metadata": {},
   "outputs": [
    {
     "name": "stdout",
     "output_type": "stream",
     "text": [
      "(477707, 4620)\n"
     ]
    }
   ],
   "source": [
    "row_number = 477708\n",
    "df = pd.read_fwf('../data/MCI_releases_time.csv', infer_nrows=row_number, header=None)\n",
    "df = df[0].str.split(';', expand=True)\n",
    "col_number = df.shape[1]\n",
    "print(df.shape)"
   ]
  },
  {
   "cell_type": "markdown",
   "id": "84815683",
   "metadata": {},
   "source": [
    "# Data transform"
   ]
  },
  {
   "cell_type": "code",
   "execution_count": 3,
   "id": "766dd187",
   "metadata": {},
   "outputs": [],
   "source": [
    "allProjectsRhythm = []\n",
    "Rhythm2018 = []\n",
    "maxSize = 0\n",
    "for index, row in df.iterrows():\n",
    "    for i in range(2, col_number):\n",
    "        if(row[i] == None):\n",
    "            break\n",
    "        date = datetime.strptime(row[i], '%Y-%m-%d')\n",
    "        previousDate = datetime.strptime(row[i-1], '%Y-%m-%d')\n",
    "        diffInDays = (date-previousDate).days\n",
    "        if(diffInDays > 0):\n",
    "            allProjectsRhythm.append(diffInDays)\n",
    "            if(date.year <= 2018):\n",
    "                Rhythm2018.append(diffInDays)"
   ]
  },
  {
   "cell_type": "markdown",
   "id": "8f0ffaca",
   "metadata": {},
   "source": [
    "# Save data"
   ]
  },
  {
   "cell_type": "code",
   "execution_count": 4,
   "id": "4b72ecbe",
   "metadata": {},
   "outputs": [],
   "source": [
    "with open('Rhythm2018Data.txt', 'w') as f:\n",
    "    for item in Rhythm2018:\n",
    "        f.write(\"%s\\n\" % item)\n",
    "\n",
    "with open('allRhythmData.txt', 'w') as f:\n",
    "    for item in allProjectsRhythm:\n",
    "        f.write(\"%s\\n\" % item)"
   ]
  },
  {
   "cell_type": "markdown",
   "id": "08c895c3",
   "metadata": {},
   "source": [
    "# Plot data"
   ]
  },
  {
   "cell_type": "code",
   "execution_count": 8,
   "id": "bad5842d",
   "metadata": {},
   "outputs": [
    {
     "name": "stdout",
     "output_type": "stream",
     "text": [
      "Medians: [14.0, 9.0]\n",
      "Means:   [43.9, 35.6]\n",
      "Q1: [4.0, 2.0]\n",
      "Q3: [43.0, 32.0]\n",
      "Minimums: [1, 1]\n",
      "Maximums: [101, 77]\n"
     ]
    },
    {
     "data": {
      "image/png": "[encoded data removed]",
      "text/plain": [
       "<Figure size 576x288 with 1 Axes>"
      ]
     },
     "metadata": {
      "needs_background": "light"
     },
     "output_type": "display_data"
    }
   ],
   "source": [
    "data = []\n",
    "data.append(Rhythm2018)\n",
    "data.append(allProjectsRhythm)\n",
    "\n",
    "fig = plt.figure(figsize =(8, 4))\n",
    "ax = fig.add_axes([0, 0, 1, 1])\n",
    "bp = ax.boxplot(data, showfliers=False, showmeans=True, meanline=True)\n",
    "\n",
    "# Get values\n",
    "for median in bp['medians']:\n",
    "    median.set_color('blue')\n",
    "for mean in bp['means']:\n",
    "    mean.set_color('blue')\n",
    "medians = [round(item.get_ydata()[0], 1) for item in bp['medians']]\n",
    "means = [round(item.get_ydata()[0], 1) for item in bp['means']]\n",
    "minimums = [round(item.get_ydata()[0], 1) for item in bp['caps']][::2]\n",
    "maximums = [round(item.get_ydata()[0], 1) for item in bp['caps']][1::2]\n",
    "q1 = [round(min(item.get_ydata()), 1) for item in bp['boxes']]\n",
    "q3 = [round(max(item.get_ydata()), 1) for item in bp['boxes']]\n",
    "print(f'Medians: {medians}\\n'\n",
    "      f'Means:   {means}\\n'\n",
    "      f'Q1: {q1}\\n'\n",
    "      f'Q3: {q3}\\n'\n",
    "      f'Minimums: {minimums}\\n'\n",
    "      f'Maximums: {maximums}')\n",
    "\n",
    "plt.legend([bp['medians'][0], bp['means'][0]], ['median', 'mean'])\n",
    "plt.ylabel('time between releases (d)')\n",
    "ax.set_xticklabels(['MCI (up-to 2018)', 'MCI (up-to 2022)'])\n",
    "plt.rcParams.update({'font.size': 15})\n",
    "# show plot\n",
    "plt.savefig('Maven_rhythm_boxplot.png', format='png', bbox_inches='tight')\n",
    "plt.show()\n",
    "plt.close()"
   ]
  },
  {
   "cell_type": "code",
   "execution_count": null,
   "id": "906b9550",
   "metadata": {},
   "outputs": [],
   "source": []
  }
 ],
 "metadata": {
  "kernelspec": {
   "display_name": "Python 3 (ipykernel)",
   "language": "python",
   "name": "python3"
  },
  "language_info": {
   "codemirror_mode": {
    "name": "ipython",
    "version": 3
   },
   "file_extension": ".py",
   "mimetype": "text/x-python",
   "name": "python",
   "nbconvert_exporter": "python",
   "pygments_lexer": "ipython3",
   "version": "3.9.4"
  }
 },
 "nbformat": 4,
 "nbformat_minor": 5
}
